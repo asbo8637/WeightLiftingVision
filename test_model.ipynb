{
 "cells": [
  {
   "cell_type": "code",
   "execution_count": 1,
   "id": "5ef8e18e",
   "metadata": {},
   "outputs": [
    {
     "name": "stderr",
     "output_type": "stream",
     "text": [
      "\n",
      "[notice] A new release of pip is available: 25.0.1 -> 25.1\n",
      "[notice] To update, run: python.exe -m pip install --upgrade pip\n",
      "c:\\Users\\assaf\\Documents\\code\\neural\\final\\tf-env\\lib\\site-packages\\tqdm\\auto.py:21: TqdmWarning: IProgress not found. Please update jupyter and ipywidgets. See https://ipywidgets.readthedocs.io/en/stable/user_install.html\n",
      "  from .autonotebook import tqdm as notebook_tqdm\n"
     ]
    },
    {
     "name": "stdout",
     "output_type": "stream",
     "text": [
      "Note: you may need to restart the kernel to use updated packages.\n"
     ]
    }
   ],
   "source": [
    "%pip install -q kagglehub\n",
    "import kagglehub\n",
    "import tensorflow as tf\n",
    "import cv2\n",
    "import numpy as np\n",
    "import os\n",
    "\n",
    "# Download latest version of the MoveNet Thunder model\n",
    "model_dir = kagglehub.model_download(\"google/movenet/tensorFlow2/singlepose-thunder\")\n",
    "# model_dir will be something like:\n",
    "#   \"C:/Users/YourUserName/.cache/kagglehub/models/google/movenet/tensorFlow2/singlepose-thunder\"\n",
    "\n",
    "# Sometimes MoveNet model files are stored under a subdirectory named \"4\"\n",
    "# Check if \"4\" exists in model_dir; if so, point model_path to that subdirectory:\n",
    "model_path = os.path.join(model_dir, \"4\")\n",
    "if not os.path.exists(model_path):\n",
    "    # If there's no '4' subfolder, we can just use model_dir directly:\n",
    "    model_path = model_dir\n",
    "\n",
    "# Load the saved model\n",
    "model = tf.saved_model.load(model_path)\n",
    "movenet = model.signatures['serving_default']"
   ]
  },
  {
   "cell_type": "code",
   "execution_count": 14,
   "id": "a373fef5",
   "metadata": {},
   "outputs": [],
   "source": [
    "import numpy as np\n",
    "import cv2\n",
    "import tensorflow as tf\n",
    "\n",
    "def preprocess_frame(frame):\n",
    "    # Resize and normalize image\n",
    "    img = tf.image.resize_with_pad(tf.expand_dims(frame, axis=0), 256, 256)\n",
    "    img = tf.cast(img, dtype=tf.int32)\n",
    "    return img\n",
    "\n",
    "def draw_keypoints(frame, keypoints, confidence_threshold=0.3):\n",
    "    h, w, _ = frame.shape\n",
    "    for kp in keypoints[0, 0, :, :]:\n",
    "        y, x, c = kp\n",
    "        if c > confidence_threshold:\n",
    "            cx, cy = int(x * w), int(y * h)\n",
    "            cv2.circle(frame, (cx, cy), 4, (0, 255, 0), -1)\n",
    "\n",
    "# Initialize video capture\n",
    "cap = cv2.VideoCapture(\"./videos/good_form/bench press_38.mp4\")  # Or your specific video file\n",
    "data = []\n",
    "\n",
    "while cap.isOpened():\n",
    "    ret, frame = cap.read()\n",
    "    if not ret:\n",
    "        break\n",
    "\n",
    "    # Convert to RGB and preprocess\n",
    "    rgb = cv2.cvtColor(frame, cv2.COLOR_BGR2RGB)\n",
    "    input_image = preprocess_frame(rgb)\n",
    "\n",
    "    # Run pose estimation\n",
    "    outputs = movenet(input_image)\n",
    "    keypoints = outputs['output_0'].numpy()\n",
    "\n",
    "    flat_input = keypoints[0, 0, :, :2].flatten()  # shape (34,)\n",
    "    data.append(flat_input)\n",
    "\n",
    "    # Draw keypoints for visualization\n",
    "    draw_keypoints(frame, keypoints)\n",
    "\n",
    "    # Show frame\n",
    "    cv2.imshow('MoveNet Thunder', frame)\n",
    "    if cv2.waitKey(1) & 0xFF == ord('q'):\n",
    "        break\n",
    "\n",
    "cap.release()\n",
    "cv2.destroyAllWindows()\n",
    "\n",
    "# Save the full sequence to a single .npy file\n",
    "data = np.array(data)  # shape (num_frames, 34)\n",
    "np.save('./file1.npy', data)"
   ]
  },
  {
   "cell_type": "code",
   "execution_count": null,
   "id": "6b078b8f",
   "metadata": {},
   "outputs": [],
   "source": []
  }
 ],
 "metadata": {
  "kernelspec": {
   "display_name": "tf-env",
   "language": "python",
   "name": "python3"
  },
  "language_info": {
   "codemirror_mode": {
    "name": "ipython",
    "version": 3
   },
   "file_extension": ".py",
   "mimetype": "text/x-python",
   "name": "python",
   "nbconvert_exporter": "python",
   "pygments_lexer": "ipython3",
   "version": "3.10.0"
  }
 },
 "nbformat": 4,
 "nbformat_minor": 5
}
